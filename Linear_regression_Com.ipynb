{
  "nbformat": 4,
  "nbformat_minor": 0,
  "metadata": {
    "colab": {
      "provenance": [],
      "authorship_tag": "ABX9TyN7hh5urIR33FkRCBVVhR7S",
      "include_colab_link": true
    },
    "kernelspec": {
      "name": "python3",
      "display_name": "Python 3"
    },
    "language_info": {
      "name": "python"
    }
  },
  "cells": [
    {
      "cell_type": "markdown",
      "metadata": {
        "id": "view-in-github",
        "colab_type": "text"
      },
      "source": [
        "<a href=\"https://colab.research.google.com/github/Walls182/API_ADOPTAPATAS_3/blob/master/Linear_regression_Com.ipynb\" target=\"_parent\"><img src=\"https://colab.research.google.com/assets/colab-badge.svg\" alt=\"Open In Colab\"/></a>"
      ]
    },
    {
      "cell_type": "markdown",
      "source": [
        "#Universidad de Cundinamarca, machine learning\n",
        "#Karen Dayana Duarte Fandiño\n",
        "#Walter Alejandro Salazar\n"
      ],
      "metadata": {
        "id": "J3kXyqDgD3n7"
      }
    },
    {
      "cell_type": "code",
      "source": [
        "import pandas as pd\n",
        "import numpy as np\n",
        "import matplotlib.pyplot as plt\n",
        "from google.colab import files\n",
        "from sklearn.model_selection import train_test_split\n",
        "from sklearn.metrics import mean_squared_error, r2_score\n",
        "from sklearn.preprocessing import StandardScaler"
      ],
      "metadata": {
        "id": "sXdIykQDIe0T"
      },
      "execution_count": null,
      "outputs": []
    },
    {
      "cell_type": "code",
      "source": [
        "uploaded = files.upload()\n",
        "for filename in uploaded.keys():\n",
        "  dataset = pd.read_csv(filename)\n"
      ],
      "metadata": {
        "colab": {
          "base_uri": "https://localhost:8080/",
          "height": 73
        },
        "id": "tnjRii42I811",
        "outputId": "29475cfc-3771-48bd-ecf8-55dcdb6b889a"
      },
      "execution_count": null,
      "outputs": [
        {
          "output_type": "display_data",
          "data": {
            "text/plain": [
              "<IPython.core.display.HTML object>"
            ],
            "text/html": [
              "\n",
              "     <input type=\"file\" id=\"files-a9b75843-f626-4923-8429-a9057322e507\" name=\"files[]\" multiple disabled\n",
              "        style=\"border:none\" />\n",
              "     <output id=\"result-a9b75843-f626-4923-8429-a9057322e507\">\n",
              "      Upload widget is only available when the cell has been executed in the\n",
              "      current browser session. Please rerun this cell to enable.\n",
              "      </output>\n",
              "      <script>// Copyright 2017 Google LLC\n",
              "//\n",
              "// Licensed under the Apache License, Version 2.0 (the \"License\");\n",
              "// you may not use this file except in compliance with the License.\n",
              "// You may obtain a copy of the License at\n",
              "//\n",
              "//      http://www.apache.org/licenses/LICENSE-2.0\n",
              "//\n",
              "// Unless required by applicable law or agreed to in writing, software\n",
              "// distributed under the License is distributed on an \"AS IS\" BASIS,\n",
              "// WITHOUT WARRANTIES OR CONDITIONS OF ANY KIND, either express or implied.\n",
              "// See the License for the specific language governing permissions and\n",
              "// limitations under the License.\n",
              "\n",
              "/**\n",
              " * @fileoverview Helpers for google.colab Python module.\n",
              " */\n",
              "(function(scope) {\n",
              "function span(text, styleAttributes = {}) {\n",
              "  const element = document.createElement('span');\n",
              "  element.textContent = text;\n",
              "  for (const key of Object.keys(styleAttributes)) {\n",
              "    element.style[key] = styleAttributes[key];\n",
              "  }\n",
              "  return element;\n",
              "}\n",
              "\n",
              "// Max number of bytes which will be uploaded at a time.\n",
              "const MAX_PAYLOAD_SIZE = 100 * 1024;\n",
              "\n",
              "function _uploadFiles(inputId, outputId) {\n",
              "  const steps = uploadFilesStep(inputId, outputId);\n",
              "  const outputElement = document.getElementById(outputId);\n",
              "  // Cache steps on the outputElement to make it available for the next call\n",
              "  // to uploadFilesContinue from Python.\n",
              "  outputElement.steps = steps;\n",
              "\n",
              "  return _uploadFilesContinue(outputId);\n",
              "}\n",
              "\n",
              "// This is roughly an async generator (not supported in the browser yet),\n",
              "// where there are multiple asynchronous steps and the Python side is going\n",
              "// to poll for completion of each step.\n",
              "// This uses a Promise to block the python side on completion of each step,\n",
              "// then passes the result of the previous step as the input to the next step.\n",
              "function _uploadFilesContinue(outputId) {\n",
              "  const outputElement = document.getElementById(outputId);\n",
              "  const steps = outputElement.steps;\n",
              "\n",
              "  const next = steps.next(outputElement.lastPromiseValue);\n",
              "  return Promise.resolve(next.value.promise).then((value) => {\n",
              "    // Cache the last promise value to make it available to the next\n",
              "    // step of the generator.\n",
              "    outputElement.lastPromiseValue = value;\n",
              "    return next.value.response;\n",
              "  });\n",
              "}\n",
              "\n",
              "/**\n",
              " * Generator function which is called between each async step of the upload\n",
              " * process.\n",
              " * @param {string} inputId Element ID of the input file picker element.\n",
              " * @param {string} outputId Element ID of the output display.\n",
              " * @return {!Iterable<!Object>} Iterable of next steps.\n",
              " */\n",
              "function* uploadFilesStep(inputId, outputId) {\n",
              "  const inputElement = document.getElementById(inputId);\n",
              "  inputElement.disabled = false;\n",
              "\n",
              "  const outputElement = document.getElementById(outputId);\n",
              "  outputElement.innerHTML = '';\n",
              "\n",
              "  const pickedPromise = new Promise((resolve) => {\n",
              "    inputElement.addEventListener('change', (e) => {\n",
              "      resolve(e.target.files);\n",
              "    });\n",
              "  });\n",
              "\n",
              "  const cancel = document.createElement('button');\n",
              "  inputElement.parentElement.appendChild(cancel);\n",
              "  cancel.textContent = 'Cancel upload';\n",
              "  const cancelPromise = new Promise((resolve) => {\n",
              "    cancel.onclick = () => {\n",
              "      resolve(null);\n",
              "    };\n",
              "  });\n",
              "\n",
              "  // Wait for the user to pick the files.\n",
              "  const files = yield {\n",
              "    promise: Promise.race([pickedPromise, cancelPromise]),\n",
              "    response: {\n",
              "      action: 'starting',\n",
              "    }\n",
              "  };\n",
              "\n",
              "  cancel.remove();\n",
              "\n",
              "  // Disable the input element since further picks are not allowed.\n",
              "  inputElement.disabled = true;\n",
              "\n",
              "  if (!files) {\n",
              "    return {\n",
              "      response: {\n",
              "        action: 'complete',\n",
              "      }\n",
              "    };\n",
              "  }\n",
              "\n",
              "  for (const file of files) {\n",
              "    const li = document.createElement('li');\n",
              "    li.append(span(file.name, {fontWeight: 'bold'}));\n",
              "    li.append(span(\n",
              "        `(${file.type || 'n/a'}) - ${file.size} bytes, ` +\n",
              "        `last modified: ${\n",
              "            file.lastModifiedDate ? file.lastModifiedDate.toLocaleDateString() :\n",
              "                                    'n/a'} - `));\n",
              "    const percent = span('0% done');\n",
              "    li.appendChild(percent);\n",
              "\n",
              "    outputElement.appendChild(li);\n",
              "\n",
              "    const fileDataPromise = new Promise((resolve) => {\n",
              "      const reader = new FileReader();\n",
              "      reader.onload = (e) => {\n",
              "        resolve(e.target.result);\n",
              "      };\n",
              "      reader.readAsArrayBuffer(file);\n",
              "    });\n",
              "    // Wait for the data to be ready.\n",
              "    let fileData = yield {\n",
              "      promise: fileDataPromise,\n",
              "      response: {\n",
              "        action: 'continue',\n",
              "      }\n",
              "    };\n",
              "\n",
              "    // Use a chunked sending to avoid message size limits. See b/62115660.\n",
              "    let position = 0;\n",
              "    do {\n",
              "      const length = Math.min(fileData.byteLength - position, MAX_PAYLOAD_SIZE);\n",
              "      const chunk = new Uint8Array(fileData, position, length);\n",
              "      position += length;\n",
              "\n",
              "      const base64 = btoa(String.fromCharCode.apply(null, chunk));\n",
              "      yield {\n",
              "        response: {\n",
              "          action: 'append',\n",
              "          file: file.name,\n",
              "          data: base64,\n",
              "        },\n",
              "      };\n",
              "\n",
              "      let percentDone = fileData.byteLength === 0 ?\n",
              "          100 :\n",
              "          Math.round((position / fileData.byteLength) * 100);\n",
              "      percent.textContent = `${percentDone}% done`;\n",
              "\n",
              "    } while (position < fileData.byteLength);\n",
              "  }\n",
              "\n",
              "  // All done.\n",
              "  yield {\n",
              "    response: {\n",
              "      action: 'complete',\n",
              "    }\n",
              "  };\n",
              "}\n",
              "\n",
              "scope.google = scope.google || {};\n",
              "scope.google.colab = scope.google.colab || {};\n",
              "scope.google.colab._files = {\n",
              "  _uploadFiles,\n",
              "  _uploadFilesContinue,\n",
              "};\n",
              "})(self);\n",
              "</script> "
            ]
          },
          "metadata": {}
        },
        {
          "output_type": "stream",
          "name": "stdout",
          "text": [
            "Saving precios portatiles.csv to precios portatiles (2).csv\n"
          ]
        }
      ]
    },
    {
      "cell_type": "code",
      "source": [
        "print(\"Primeras Filas\")\n",
        "print(dataset.head())"
      ],
      "metadata": {
        "colab": {
          "base_uri": "https://localhost:8080/"
        },
        "id": "3kKXqTU7JGlC",
        "outputId": "df2f128c-0e2e-499b-f96e-6b32fdf41529"
      },
      "execution_count": null,
      "outputs": [
        {
          "output_type": "stream",
          "name": "stdout",
          "text": [
            "Primeras Filas\n",
            "  Fabricante     Producto     Modelo  Pulgadas  \\\n",
            "0      Apple  MacBook Pro  Ultrabook      13.3   \n",
            "1      Apple  Macbook Air  Ultrabook      13.3   \n",
            "2         HP       250 G6   Notebook      15.6   \n",
            "3      Apple  MacBook Pro  Ultrabook      15.4   \n",
            "4      Apple  MacBook Pro  Ultrabook      13.3   \n",
            "\n",
            "                           resolucion    CPU       Tipo_CPU  Frecuencia (GHz)  \\\n",
            "0  IPS Panel Retina Display 2560x1600  Intel        Core i5               2.3   \n",
            "1                            1440x900  Intel        Core i5               1.8   \n",
            "2                   Full HD 1920x1080  Intel  Core i5 7200U               2.5   \n",
            "3  IPS Panel Retina Display 2880x1800  Intel        Core i7               2.7   \n",
            "4  IPS Panel Retina Display 2560x1600  Intel        Core i5               3.1   \n",
            "\n",
            "   RAM (GB)            Dico duro GPU_fabricante                GPU_Tipo  \\\n",
            "0         8            128GB SSD          Intel  Iris Plus Graphics 640   \n",
            "1         8  128GB Flash Storage          Intel        HD Graphics 6000   \n",
            "2         8            256GB SSD          Intel         HD Graphics 620   \n",
            "3        16            512GB SSD            AMD          Radeon Pro 455   \n",
            "4         8            256GB SSD          Intel  Iris Plus Graphics 650   \n",
            "\n",
            "      SO  peso (kg)  precio (Euro)  \n",
            "0  macOS       1.37        1339.69  \n",
            "1  macOS       1.34         898.94  \n",
            "2  No OS       1.86         575.00  \n",
            "3  macOS       1.83        2537.45  \n",
            "4  macOS       1.37        1803.60  \n"
          ]
        }
      ]
    },
    {
      "cell_type": "code",
      "source": [
        "X = dataset [['RAM (GB)', 'Frecuencia (GHz)', 'precio (Euro)']]\n",
        "y = dataset ['peso (kg)']"
      ],
      "metadata": {
        "id": "JCYZDvOxJQjl"
      },
      "execution_count": null,
      "outputs": []
    },
    {
      "cell_type": "code",
      "source": [
        "scaler = StandardScaler()\n",
        "X_normalized = scaler.fit_transform(X)"
      ],
      "metadata": {
        "id": "3Q-yTPQXJpDN"
      },
      "execution_count": null,
      "outputs": []
    },
    {
      "cell_type": "code",
      "source": [
        "X_train, X_test, y_train, y_test = train_test_split(X_normalized, y, test_size=0.2, random_state=42)"
      ],
      "metadata": {
        "id": "LlBrjmboJxFb"
      },
      "execution_count": null,
      "outputs": []
    },
    {
      "cell_type": "code",
      "source": [
        "def linear_regression(X_train, y_train):\n",
        "  X_train_b = np.c_[np.ones((X_train.shape[0], 1)), X_train]\n",
        "  theta = np.linalg.inv(X_train_b.T @ X_train_b) @ X_train_b.T @ y_train\n",
        "  return theta"
      ],
      "metadata": {
        "id": "UTBZ7hXMJ4Mx"
      },
      "execution_count": null,
      "outputs": []
    },
    {
      "cell_type": "code",
      "source": [
        "theta = linear_regression(X_train, y_train)\n",
        "intercepto = theta[0]\n",
        "coeficientes = theta[1:]"
      ],
      "metadata": {
        "id": "5wn4L_JNKbWK"
      },
      "execution_count": null,
      "outputs": []
    },
    {
      "source": [
        "def predict (X_test, theta):\n",
        "  X_test_b = np.c_[np.ones((X_test.shape[0], 1)), X_test]\n",
        "  y_pred = X_test_b @ theta\n",
        "  return y_pred\n",
        "\n",
        "y_pred = predict (X_test, theta)\n",
        "mse = mean_squared_error(y_test, y_pred)\n",
        "r2 = r2_score(y_test, y_pred)\n",
        "\n",
        "print(\"Evaluacion del modelo\")\n",
        "print(\"Coeficientes:\", coeficientes)\n",
        "print(\"Intercepcion (bias):\", intercepto)\n",
        "print(\"Error Medio Cuadratico (MSE):\", mse)\n",
        "print(\"Coeficiente de Determinacion (R^2):\", r2)"
      ],
      "cell_type": "code",
      "metadata": {
        "colab": {
          "base_uri": "https://localhost:8080/"
        },
        "id": "Mo_F58VtOvrr",
        "outputId": "6ca300f9-36dc-4638-82a0-841fb68dacdf"
      },
      "execution_count": null,
      "outputs": [
        {
          "output_type": "stream",
          "name": "stdout",
          "text": [
            "Evaluacion del modelo\n",
            "Coeficientes: [ 0.28510506  0.17648003 -0.1658859 ]\n",
            "Intercepcion (bias): 2.0363653458877264\n",
            "Error Medio Cuadratico (MSE): 0.3569913437444962\n",
            "Coeficiente de Determinacion (R^2): 0.28509068171791885\n"
          ]
        }
      ]
    },
    {
      "cell_type": "code",
      "source": [
        "plt.figure(figsize=(12, 6))\n",
        "plt.subplot(1, 2, 1)\n",
        "plt.scatter(y_test, y_pred, alpha=0.7)\n",
        "plt.plot([min(y_test), max(y_test)], [min(y_test), max(y_test)], 'r--', lw=2)\n",
        "plt.xlabel(\"Valores Reales\")\n",
        "plt.ylabel(\"Predicciones\")\n",
        "plt.title(\"Valores Reales vs Predicciones\")"
      ],
      "metadata": {
        "colab": {
          "base_uri": "https://localhost:8080/",
          "height": 581
        },
        "id": "Sv_bKvp1K18f",
        "outputId": "6d131a87-9a9f-432b-cfea-8c9239db51f0"
      },
      "execution_count": null,
      "outputs": [
        {
          "output_type": "execute_result",
          "data": {
            "text/plain": [
              "Text(0.5, 1.0, 'Valores Reales vs Predicciones')"
            ]
          },
          "metadata": {},
          "execution_count": 67
        },
        {
          "output_type": "display_data",
          "data": {
            "text/plain": [
              "<Figure size 1200x600 with 1 Axes>"
            ],
            "image/png": "[encoded data removed]"
          },
          "metadata": {}
        }
      ]
    },
    {
      "cell_type": "code",
      "source": [
        "errores = y_test - y_pred\n",
        "plt.subplot(1, 2, 2)\n",
        "plt.hist(errores, bins=20, edgecolor='black')\n",
        "plt.xlabel(\"Errores\")\n",
        "plt.ylabel(\"Frecuencia\")\n",
        "plt.title(\"Distribucion de Errores\")\n",
        "\n",
        "plt.tight_layout()\n",
        "plt.show()\n",
        "\n"
      ],
      "metadata": {
        "colab": {
          "base_uri": "https://localhost:8080/",
          "height": 487
        },
        "id": "apzWENnJP2jB",
        "outputId": "5eaaaee1-2c22-4575-9686-05948dc9da56"
      },
      "execution_count": null,
      "outputs": [
        {
          "output_type": "display_data",
          "data": {
            "text/plain": [
              "<Figure size 640x480 with 1 Axes>"
            ],
            "image/png": "[encoded data removed]"
          },
          "metadata": {}
        }
      ]
    },
    {
      "cell_type": "code",
      "source": [
        "ram = float(input(\"Ingrese la cantidad de RAM (GB): \"))\n",
        "frecuencia = float(input(\"Ingrese la frecuencia (GHz): \"))\n",
        "precio = float(input(\"Ingrese el precio (Euro): \"))\n",
        "\n",
        "valores_especificos = np.array([[ram, frecuencia, precio]])\n",
        "valores_especificados_normalizados = scaler.transform(valores_especificos)\n",
        "valores_especificos_b = np.c_[np.ones((valores_especificados_normalizados.shape[0], 1)), valores_especificados_normalizados]\n",
        "peso_predicho = valores_especificos_b @ theta\n",
        "\n",
        "print(\"Peso estimado:\", peso_predicho[0])"
      ],
      "metadata": {
        "colab": {
          "base_uri": "https://localhost:8080/"
        },
        "id": "usgO80W5QnFY",
        "outputId": "e07a60bf-173d-4d58-e34a-f9aa7050a605"
      },
      "execution_count": null,
      "outputs": [
        {
          "output_type": "stream",
          "name": "stdout",
          "text": [
            "Ingrese la cantidad de RAM (GB): 8\n",
            "Ingrese la frecuencia (GHz): 2.5\n",
            "Ingrese el precio (Euro): 1500\n",
            "Peso estimado: 1.9942942974113125\n"
          ]
        },
        {
          "output_type": "stream",
          "name": "stderr",
          "text": [
            "/usr/local/lib/python3.10/dist-packages/sklearn/base.py:465: UserWarning: X does not have valid feature names, but StandardScaler was fitted with feature names\n",
            "  warnings.warn(\n"
          ]
        }
      ]
    },
    {
      "cell_type": "code",
      "source": [],
      "metadata": {
        "id": "Ms8L8XpDRm12"
      },
      "execution_count": null,
      "outputs": []
    }
  ]
}